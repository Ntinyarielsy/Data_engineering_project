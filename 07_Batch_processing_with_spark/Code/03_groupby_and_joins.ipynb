{
 "cells": [
  {
   "cell_type": "code",
   "execution_count": 3,
   "metadata": {},
   "outputs": [],
   "source": [
    "import pyspark\n",
    "from pyspark.sql import SparkSession\n",
    "from pyspark.sql import functions as F\n"
   ]
  },
  {
   "cell_type": "code",
   "execution_count": 4,
   "metadata": {},
   "outputs": [],
   "source": [
    "\n",
    "spark = SparkSession.builder \\\n",
    "    .master(\"local[*]\") \\\n",
    "    .appName('test') \\\n",
    "    .getOrCreate()"
   ]
  },
  {
   "cell_type": "code",
   "execution_count": 5,
   "metadata": {},
   "outputs": [],
   "source": [
    "df_green=spark.read.parquet('C:/data_engineering_project/06_Batch_processing_with_spark/data/pq/green/*/*')"
   ]
  },
  {
   "cell_type": "code",
   "execution_count": 6,
   "metadata": {},
   "outputs": [],
   "source": [
    "df_green.createOrReplaceTempView('green')"
   ]
  },
  {
   "cell_type": "code",
   "execution_count": 7,
   "metadata": {},
   "outputs": [],
   "source": [
    "df_green_revenue=spark.sql(\"\"\"\n",
    "SELECT\n",
    "    date_trunc('hour', lpep_pickup_datetime) AS hour, \n",
    "    PULocationID AS zone,\n",
    "\n",
    "    SUM(total_amount) AS green_amount,\n",
    "    COUNT(1) AS green_number_records\n",
    "FROM\n",
    "    green\n",
    "WHERE\n",
    "    lpep_pickup_datetime >= '2020-01-01 00:00:00'\n",
    "GROUP BY\n",
    "    1,2\n",
    "\"\"\")"
   ]
  },
  {
   "cell_type": "code",
   "execution_count": 8,
   "metadata": {},
   "outputs": [
    {
     "name": "stdout",
     "output_type": "stream",
     "text": [
      "+-------------------+----+------------------+--------------------+\n",
      "|               hour|zone|      green_amount|green_number_records|\n",
      "+-------------------+----+------------------+--------------------+\n",
      "|2020-01-03 09:00:00| 226|108.33999999999999|                   6|\n",
      "|2020-01-02 14:00:00|  26| 327.4800000000001|                  11|\n",
      "|2020-01-06 15:00:00| 241|             184.7|                   3|\n",
      "|2020-01-22 13:00:00|  74| 666.2399999999999|                  44|\n",
      "|2020-01-14 23:00:00| 223|             48.31|                   4|\n",
      "|2020-01-09 23:00:00| 260|202.33000000000004|                  16|\n",
      "|2020-01-30 09:00:00|  75|1010.3499999999995|                  67|\n",
      "|2020-01-11 21:00:00|  41| 700.5999999999997|                  50|\n",
      "|2020-01-07 18:00:00|  45|112.39000000000001|                   4|\n",
      "|2020-01-02 09:00:00|  42| 555.7500000000001|                  33|\n",
      "|2020-01-04 23:00:00|  25|             376.4|                  26|\n",
      "|2020-01-25 11:00:00| 259|            161.21|                   3|\n",
      "|2020-01-16 20:00:00|  52|             108.6|                   7|\n",
      "|2020-01-16 06:00:00|  74| 600.7999999999998|                  37|\n",
      "|2020-01-17 07:00:00|  41| 481.6400000000002|                  39|\n",
      "|2020-01-17 04:00:00|  82|108.74999999999999|                  10|\n",
      "|2020-01-22 16:00:00| 244|            926.17|                  32|\n",
      "|2020-01-02 18:00:00|  66|210.76000000000002|                  11|\n",
      "|2020-01-30 22:00:00|  36|              85.1|                   3|\n",
      "|2020-01-17 19:00:00|  17|133.57999999999998|                  13|\n",
      "+-------------------+----+------------------+--------------------+\n",
      "only showing top 20 rows\n",
      "\n"
     ]
    }
   ],
   "source": [
    "df_green_revenue.show()"
   ]
  },
  {
   "cell_type": "code",
   "execution_count": 9,
   "metadata": {},
   "outputs": [],
   "source": [
    "df_green_revenue \\\n",
    "    .repartition(20) \\\n",
    "    .write.parquet('C:/data_engineering_project/06_Batch_processing_with_spark/data/report/revenue/green', mode='overwrite')"
   ]
  },
  {
   "cell_type": "code",
   "execution_count": null,
   "metadata": {},
   "outputs": [],
   "source": []
  },
  {
   "cell_type": "code",
   "execution_count": 10,
   "metadata": {},
   "outputs": [],
   "source": [
    "df_yellow=spark.read.parquet('C:/data_engineering_project/06_Batch_processing_with_spark/data/pq/yellow/*/*')"
   ]
  },
  {
   "cell_type": "code",
   "execution_count": 11,
   "metadata": {},
   "outputs": [],
   "source": [
    "df_yellow.createOrReplaceTempView('yellow')"
   ]
  },
  {
   "cell_type": "code",
   "execution_count": 12,
   "metadata": {},
   "outputs": [],
   "source": [
    "df_yellow_revenue=spark.sql(\"\"\"\n",
    "SELECT\n",
    "    date_trunc('hour', tpep_pickup_datetime) AS hour, \n",
    "    PULocationID AS zone,\n",
    "\n",
    "    SUM(total_amount) AS yellow_amount,\n",
    "    COUNT(1) AS yellow_number_records\n",
    "FROM\n",
    "    yellow\n",
    "WHERE\n",
    "    tpep_pickup_datetime >= '2020-01-01 00:00:00'\n",
    "GROUP BY\n",
    "    1,2\n",
    "\"\"\")"
   ]
  },
  {
   "cell_type": "code",
   "execution_count": 13,
   "metadata": {},
   "outputs": [
    {
     "name": "stdout",
     "output_type": "stream",
     "text": [
      "+-------------------+----+------------------+---------------------+\n",
      "|               hour|zone|     yellow_amount|yellow_number_records|\n",
      "+-------------------+----+------------------+---------------------+\n",
      "|2088-01-24 00:00:00|  41|               5.3|                    1|\n",
      "|2033-04-27 13:00:00| 263|               8.3|                    1|\n",
      "|2033-04-27 12:00:00| 229|              10.8|                    1|\n",
      "|2020-01-02 00:00:00| 100| 840.5600000000002|                   43|\n",
      "|2020-01-02 00:00:00| 163| 756.5000000000002|                   55|\n",
      "|2020-01-05 02:00:00| 163|1444.6499999999992|                   92|\n",
      "|2020-01-15 17:00:00| 233| 4806.989999999999|                  236|\n",
      "|2020-01-16 16:00:00| 211|1691.4799999999996|                   88|\n",
      "|2020-02-28 18:00:00|  48| 7228.720000000013|                  433|\n",
      "|2020-02-14 14:00:00| 113| 3181.679999999998|                  197|\n",
      "|2020-01-02 04:00:00| 100|383.14000000000004|                   27|\n",
      "|2020-02-16 05:00:00| 107| 553.3600000000001|                   27|\n",
      "|2020-02-04 21:00:00|  79| 5068.610000000004|                  302|\n",
      "|2020-05-05 05:00:00| 229|             32.41|                    2|\n",
      "|2020-03-29 22:00:00|  79|             29.66|                    2|\n",
      "|2020-01-19 11:00:00| 231| 2835.249999999998|                  170|\n",
      "|2020-03-21 08:00:00| 263| 386.7800000000001|                   30|\n",
      "|2020-02-13 20:00:00| 234|  9195.35000000002|                  553|\n",
      "|2020-06-16 21:00:00| 230|             98.47|                    6|\n",
      "|2020-01-14 18:00:00| 237| 12475.55000000004|                  807|\n",
      "+-------------------+----+------------------+---------------------+\n",
      "only showing top 20 rows\n",
      "\n"
     ]
    }
   ],
   "source": [
    "df_yellow_revenue.show()"
   ]
  },
  {
   "cell_type": "code",
   "execution_count": 14,
   "metadata": {},
   "outputs": [],
   "source": [
    "df_yellow_revenue \\\n",
    "    .repartition(20) \\\n",
    "    .write.parquet('C:/data_engineering_project/06_Batch_processing_with_spark/data/report/revenue/yellow', mode='overwrite')"
   ]
  },
  {
   "cell_type": "markdown",
   "metadata": {},
   "source": [
    "### Joins"
   ]
  },
  {
   "cell_type": "code",
   "execution_count": 15,
   "metadata": {},
   "outputs": [
    {
     "name": "stdout",
     "output_type": "stream",
     "text": [
      "+-------------------+----+------------------+---------------------+\n",
      "|               hour|zone|     yellow_amount|yellow_number_records|\n",
      "+-------------------+----+------------------+---------------------+\n",
      "|2088-01-24 00:00:00|  41|               5.3|                    1|\n",
      "|2033-04-27 13:00:00| 263|               8.3|                    1|\n",
      "|2033-04-27 12:00:00| 229|              10.8|                    1|\n",
      "|2020-01-02 00:00:00| 100| 840.5600000000002|                   43|\n",
      "|2020-01-02 00:00:00| 163| 756.5000000000002|                   55|\n",
      "|2020-01-05 02:00:00| 163|1444.6499999999992|                   92|\n",
      "|2020-01-15 17:00:00| 233| 4806.989999999999|                  236|\n",
      "|2020-01-16 16:00:00| 211|1691.4799999999996|                   88|\n",
      "|2020-02-28 18:00:00|  48| 7228.720000000013|                  433|\n",
      "|2020-02-14 14:00:00| 113| 3181.679999999998|                  197|\n",
      "|2020-01-02 04:00:00| 100|383.14000000000004|                   27|\n",
      "|2020-02-16 05:00:00| 107| 553.3600000000001|                   27|\n",
      "|2020-02-04 21:00:00|  79| 5068.610000000004|                  302|\n",
      "|2020-05-05 05:00:00| 229|             32.41|                    2|\n",
      "|2020-03-29 22:00:00|  79|             29.66|                    2|\n",
      "|2020-01-19 11:00:00| 231| 2835.249999999998|                  170|\n",
      "|2020-03-21 08:00:00| 263| 386.7800000000001|                   30|\n",
      "|2020-02-13 20:00:00| 234|  9195.35000000002|                  553|\n",
      "|2020-06-16 21:00:00| 230|             98.47|                    6|\n",
      "|2020-01-14 18:00:00| 237| 12475.55000000004|                  807|\n",
      "+-------------------+----+------------------+---------------------+\n",
      "only showing top 20 rows\n",
      "\n"
     ]
    }
   ],
   "source": [
    "df_yellow_revenue.show()"
   ]
  },
  {
   "cell_type": "code",
   "execution_count": 16,
   "metadata": {},
   "outputs": [
    {
     "name": "stdout",
     "output_type": "stream",
     "text": [
      "+-------------------+----+------------------+--------------------+------------------+---------------------+\n",
      "|               hour|zone|      green_amount|green_number_records|     yellow_amount|yellow_number_records|\n",
      "+-------------------+----+------------------+--------------------+------------------+---------------------+\n",
      "|2020-01-01 00:00:00|  15|              NULL|                NULL|             34.09|                    1|\n",
      "|2020-01-01 00:00:00|  25|             531.0|                  26|            324.35|                   16|\n",
      "|2020-01-01 00:00:00|  29|              61.3|                   1|              NULL|                 NULL|\n",
      "|2020-01-01 00:00:00|  33| 317.2700000000001|                  11|            255.56|                    8|\n",
      "|2020-01-01 00:00:00|  34|              NULL|                NULL|              19.3|                    1|\n",
      "|2020-01-01 00:00:00|  41|1363.9599999999982|                  84|1256.5300000000002|                   80|\n",
      "|2020-01-01 00:00:00|  42| 799.7599999999996|                  52| 635.3500000000001|                   46|\n",
      "|2020-01-01 00:00:00|  51|              17.8|                   2|              31.0|                    1|\n",
      "|2020-01-01 00:00:00|  59|50.900000000000006|                   3|              NULL|                 NULL|\n",
      "|2020-01-01 00:00:00|  62|             15.95|                   1|             61.43|                    1|\n",
      "|2020-01-01 00:00:00|  69|              11.8|                   1|106.52000000000001|                    4|\n",
      "|2020-01-01 00:00:00|  71|              23.8|                   1|              NULL|                 NULL|\n",
      "|2020-01-01 00:00:00|  76|143.77999999999997|                   4|             35.51|                    2|\n",
      "|2020-01-01 00:00:00|  81|54.870000000000005|                   2|             30.32|                    1|\n",
      "|2020-01-01 00:00:00|  87|              NULL|                NULL| 2456.669999999999|                  112|\n",
      "|2020-01-01 00:00:00|  89|              11.3|                   1|             48.16|                    2|\n",
      "|2020-01-01 00:00:00| 108|              NULL|                NULL|              18.8|                    1|\n",
      "|2020-01-01 00:00:00| 112|312.26000000000005|                  18|119.47999999999999|                    8|\n",
      "|2020-01-01 00:00:00| 125|              NULL|                NULL|           1342.07|                   68|\n",
      "|2020-01-01 00:00:00| 126|              NULL|                NULL|             170.6|                    2|\n",
      "+-------------------+----+------------------+--------------------+------------------+---------------------+\n",
      "only showing top 20 rows\n",
      "\n"
     ]
    }
   ],
   "source": [
    "df_join=df_green_revenue.join(df_yellow_revenue,on=['hour','zone'],how='outer')\n",
    "df_join.show()"
   ]
  },
  {
   "cell_type": "code",
   "execution_count": 19,
   "metadata": {},
   "outputs": [],
   "source": [
    "df_join.write.parquet('C:/data_engineering_project/06_Batch_processing_with_spark/data/report/revenue/total',mode='overwrite')"
   ]
  },
  {
   "cell_type": "code",
   "execution_count": 20,
   "metadata": {},
   "outputs": [],
   "source": [
    "df_join=spark.read.parquet('C:/data_engineering_project/06_Batch_processing_with_spark/data/report/revenue/total')"
   ]
  },
  {
   "cell_type": "code",
   "execution_count": 22,
   "metadata": {},
   "outputs": [
    {
     "name": "stderr",
     "output_type": "stream",
     "text": [
      "--2023-10-31 16:01:34--  https://s3.amazonaws.com/nyc-tlc/misc/taxi+_zone_lookup.csv\n",
      "Resolving s3.amazonaws.com (s3.amazonaws.com)... 16.182.97.128, 52.216.209.136, 54.231.227.16, ...\n",
      "Connecting to s3.amazonaws.com (s3.amazonaws.com)|16.182.97.128|:443... connected.\n",
      "HTTP request sent, awaiting response... 200 OK\n",
      "Length: 12322 (12K) [application/octet-stream]\n",
      "Saving to: 'taxi+_zone_lookup.csv'\n",
      "\n",
      "     0K .......... ..                                         100% 1013K=0.01s\n",
      "\n",
      "2023-10-31 16:01:37 (1013 KB/s) - 'taxi+_zone_lookup.csv' saved [12322/12322]\n",
      "\n"
     ]
    }
   ],
   "source": [
    "!wget https://s3.amazonaws.com/nyc-tlc/misc/taxi+_zone_lookup.csv"
   ]
  },
  {
   "cell_type": "code",
   "execution_count": 30,
   "metadata": {},
   "outputs": [],
   "source": [
    "df=spark.read \\\n",
    "    .option('header','True') \\\n",
    "    .csv('./taxi+_zone_lookup.csv')"
   ]
  },
  {
   "cell_type": "code",
   "execution_count": 32,
   "metadata": {},
   "outputs": [],
   "source": [
    "df.write.parquet('zones')"
   ]
  },
  {
   "cell_type": "code",
   "execution_count": 33,
   "metadata": {},
   "outputs": [
    {
     "name": "stdout",
     "output_type": "stream",
     "text": [
      "+----------+-------------+--------------------+------------+\n",
      "|LocationID|      Borough|                Zone|service_zone|\n",
      "+----------+-------------+--------------------+------------+\n",
      "|         1|          EWR|      Newark Airport|         EWR|\n",
      "|         2|       Queens|         Jamaica Bay|   Boro Zone|\n",
      "|         3|        Bronx|Allerton/Pelham G...|   Boro Zone|\n",
      "|         4|    Manhattan|       Alphabet City| Yellow Zone|\n",
      "|         5|Staten Island|       Arden Heights|   Boro Zone|\n",
      "|         6|Staten Island|Arrochar/Fort Wad...|   Boro Zone|\n",
      "|         7|       Queens|             Astoria|   Boro Zone|\n",
      "|         8|       Queens|        Astoria Park|   Boro Zone|\n",
      "|         9|       Queens|          Auburndale|   Boro Zone|\n",
      "|        10|       Queens|        Baisley Park|   Boro Zone|\n",
      "|        11|     Brooklyn|          Bath Beach|   Boro Zone|\n",
      "|        12|    Manhattan|        Battery Park| Yellow Zone|\n",
      "|        13|    Manhattan|   Battery Park City| Yellow Zone|\n",
      "|        14|     Brooklyn|           Bay Ridge|   Boro Zone|\n",
      "|        15|       Queens|Bay Terrace/Fort ...|   Boro Zone|\n",
      "|        16|       Queens|             Bayside|   Boro Zone|\n",
      "|        17|     Brooklyn|             Bedford|   Boro Zone|\n",
      "|        18|        Bronx|        Bedford Park|   Boro Zone|\n",
      "|        19|       Queens|           Bellerose|   Boro Zone|\n",
      "|        20|        Bronx|             Belmont|   Boro Zone|\n",
      "+----------+-------------+--------------------+------------+\n",
      "only showing top 20 rows\n",
      "\n"
     ]
    }
   ],
   "source": [
    "df_zones= spark.read.parquet('zones/')\n",
    "df_zones.show()"
   ]
  },
  {
   "cell_type": "code",
   "execution_count": 34,
   "metadata": {},
   "outputs": [],
   "source": [
    "df_result = df_join.join(df_zones, df_join.zone == df_zones.LocationID)"
   ]
  },
  {
   "cell_type": "code",
   "execution_count": 35,
   "metadata": {},
   "outputs": [
    {
     "name": "stdout",
     "output_type": "stream",
     "text": [
      "+-------------------+----+------------------+--------------------+------------------+---------------------+----------+---------+-------------------+------------+\n",
      "|               hour|zone|      green_amount|green_number_records|     yellow_amount|yellow_number_records|LocationID|  Borough|               Zone|service_zone|\n",
      "+-------------------+----+------------------+--------------------+------------------+---------------------+----------+---------+-------------------+------------+\n",
      "|2020-01-01 00:00:00|  12|              NULL|                NULL|             107.0|                    6|        12|Manhattan|       Battery Park| Yellow Zone|\n",
      "|2020-01-01 00:00:00|  13|              NULL|                NULL|            1214.8|                   56|        13|Manhattan|  Battery Park City| Yellow Zone|\n",
      "|2020-01-01 00:00:00|  18|               7.8|                   1|               5.8|                    1|        18|    Bronx|       Bedford Park|   Boro Zone|\n",
      "|2020-01-01 00:00:00|  24|              87.6|                   3| 754.9500000000002|                   45|        24|Manhattan|       Bloomingdale| Yellow Zone|\n",
      "|2020-01-01 00:00:00|  35|129.96000000000004|                   5|              NULL|                 NULL|        35| Brooklyn|        Brownsville|   Boro Zone|\n",
      "|2020-01-01 00:00:00|  37|175.67000000000002|                   6|            161.61|                    7|        37| Brooklyn|     Bushwick South|   Boro Zone|\n",
      "|2020-01-01 00:00:00|  38| 98.78999999999999|                   2|              NULL|                 NULL|        38|   Queens|    Cambria Heights|   Boro Zone|\n",
      "|2020-01-01 00:00:00|  40|168.98000000000002|                   8|             89.97|                    5|        40| Brooklyn|    Carroll Gardens|   Boro Zone|\n",
      "|2020-01-01 00:00:00|  43|            107.52|                   6| 6539.510000000011|                  390|        43|Manhattan|       Central Park| Yellow Zone|\n",
      "|2020-01-01 00:00:00|  48|              NULL|                NULL| 10773.36000000003|                  455|        48|Manhattan|       Clinton East| Yellow Zone|\n",
      "|2020-01-01 00:00:00|  49|266.76000000000005|                  14|185.64999999999998|                   10|        49| Brooklyn|       Clinton Hill|   Boro Zone|\n",
      "|2020-01-01 00:00:00|  52| 83.32999999999998|                   4|              49.8|                    2|        52| Brooklyn|        Cobble Hill|   Boro Zone|\n",
      "|2020-01-01 00:00:00|  55|129.29000000000002|                   4|              NULL|                 NULL|        55| Brooklyn|       Coney Island|   Boro Zone|\n",
      "|2020-01-01 00:00:00|  60|            160.04|                   6|57.620000000000005|                    2|        60|    Bronx|  Crotona Park East|   Boro Zone|\n",
      "|2020-01-01 00:00:00|  61|            526.71|                  17|            146.64|                    3|        61| Brooklyn|Crown Heights North|   Boro Zone|\n",
      "|2020-01-01 00:00:00|  68|              NULL|                NULL| 7825.070000000012|                  396|        68|Manhattan|       East Chelsea| Yellow Zone|\n",
      "|2020-01-01 00:00:00|  78|             34.46|                   2|              NULL|                 NULL|        78|    Bronx|       East Tremont|   Boro Zone|\n",
      "|2020-01-01 00:00:00|  79|              NULL|                NULL|12573.810000000036|                  721|        79|Manhattan|       East Village| Yellow Zone|\n",
      "|2020-01-01 00:00:00|  82| 305.1200000000002|                  28|              29.8|                    1|        82|   Queens|           Elmhurst|   Boro Zone|\n",
      "|2020-01-01 00:00:00|  83| 94.09999999999998|                   7|               9.8|                    1|        83|   Queens|   Elmhurst/Maspeth|   Boro Zone|\n",
      "+-------------------+----+------------------+--------------------+------------------+---------------------+----------+---------+-------------------+------------+\n",
      "only showing top 20 rows\n",
      "\n"
     ]
    }
   ],
   "source": [
    "df_result.show()"
   ]
  },
  {
   "cell_type": "code",
   "execution_count": 37,
   "metadata": {},
   "outputs": [],
   "source": [
    "df_result.drop('LocationID', 'zone').write.parquet('C:/data_engineering_project/06_Batch_processing_with_spark/data/report/revenue/revenue-zones')"
   ]
  }
 ],
 "metadata": {
  "kernelspec": {
   "display_name": "Python 3",
   "language": "python",
   "name": "python3"
  },
  "language_info": {
   "codemirror_mode": {
    "name": "ipython",
    "version": 3
   },
   "file_extension": ".py",
   "mimetype": "text/x-python",
   "name": "python",
   "nbconvert_exporter": "python",
   "pygments_lexer": "ipython3",
   "version": "3.11.0"
  }
 },
 "nbformat": 4,
 "nbformat_minor": 2
}
